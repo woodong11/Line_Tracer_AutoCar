{
 "cells": [
  {
   "cell_type": "markdown",
   "metadata": {},
   "source": [
    "## 체크보드를 이용한 Calibration용 파일\n",
    "- 평평한 체크보드가 필요합니다."
   ]
  },
  {
   "cell_type": "code",
   "execution_count": null,
   "metadata": {},
   "outputs": [],
   "source": [
    "import numpy as np\n",
    "import cv2"
   ]
  },
  {
   "cell_type": "code",
   "execution_count": null,
   "metadata": {},
   "outputs": [],
   "source": [
    "\n",
    "# 체스판 이미지에서 코너를 검출하기 위한 설정 \n",
    "# (내부 교차점 가로 개수, 내부 교차점 새로 개수)\n",
    "CHESSBOARD_SIZE = (8, 5)\n",
    "CHESSBOARD_FLAGS = cv2.CALIB_CB_ADAPTIVE_THRESH | cv2.CALIB_CB_NORMALIZE_IMAGE\n",
    "\n",
    "# 카메라 캘리브레이션을 위한 샘플 이미지 경로\n",
    "CALIBRATION_IMAGES = ['image/captured_img_0.png','image/captured_img_1.png','image/captured_img_2.png','image/captured_img_3.png','image/captured_img_4.png',\n",
    "                      'image/captured_img_5.png','image/captured_img_6.png','image/captured_img_7.png','image/captured_img_8.png','image/captured_img_9.png',\n",
    "                      'image/captured_img_10.png','image/captured_img_11.png','image/captured_img_12.png','image/captured_img_13.png','image/captured_img_14.png',\n",
    "                      'image/captured_img_15.png','image/captured_img_16.png','image/captured_img_17.png','image/captured_img_18.png','image/captured_img_19.png']\n",
    "\n",
    "# 체스판 코너를 검출하기 위한 객체 생성\n",
    "chessboard_criteria = (cv2.TERM_CRITERIA_EPS + cv2.TERM_CRITERIA_MAX_ITER, 30, 0.001)\n",
    "\n",
    "# 체스판 코너를 검출하기 위한 함수\n",
    "def find_chessboard_corners(image_path):\n",
    "    image = cv2.imread(image_path)\n",
    "    gray = cv2.cvtColor(image, cv2.COLOR_BGR2GRAY)\n",
    "    ret, corners = cv2.findChessboardCorners(gray, CHESSBOARD_SIZE, None, CHESSBOARD_FLAGS)\n",
    "    if ret:\n",
    "        corners = cv2.cornerSubPix(gray, corners, (11, 11), (-1, -1), chessboard_criteria)\n",
    "    return ret, corners\n",
    "\n",
    "# 캘리브레이션에 필요한 체스판 코너 검출 결과\n",
    "object_points = []\n",
    "image_points = []\n",
    "\n",
    "# 체스판 코너 검출\n",
    "for image_path in CALIBRATION_IMAGES:\n",
    "    ret, corners = find_chessboard_corners(image_path)\n",
    "    if ret:\n",
    "        object_points.append(np.zeros((CHESSBOARD_SIZE[0] * CHESSBOARD_SIZE[1], 3), np.float32))\n",
    "        object_points[-1][:, :2] = np.mgrid[0:CHESSBOARD_SIZE[0], 0:CHESSBOARD_SIZE[1]].T.reshape(-1, 2)\n",
    "        image_points.append(corners)\n",
    "\n",
    "# 카메라 캘리브레이션\n",
    "image_size = cv2.imread(CALIBRATION_IMAGES[0]).shape[:2]\n",
    "ret, camera_matrix, distortion_coefficients, rotation_vectors, translation_vectors = cv2.calibrateCamera(\n",
    "    object_points, image_points, image_size, None, None\n",
    ")\n",
    "\n",
    "# 결과 출력\n",
    "print(\"Camera matrix:\\n\", camera_matrix)\n",
    "print(\"Distortion coefficients:\\n\", distortion_coefficients)\n",
    "np.save(\"intrinsic_parameters/camera_matrix.npy\",camera_matrix)\n",
    "np.save(\"intrinsic_parameters/distortion_coefficients.npy\",distortion_coefficients)\n"
   ]
  }
 ],
 "metadata": {
  "kernelspec": {
   "display_name": "Python 3 (ipykernel)",
   "language": "python",
   "name": "python3"
  },
  "language_info": {
   "name": "python"
  }
 },
 "nbformat": 4,
 "nbformat_minor": 2
}
